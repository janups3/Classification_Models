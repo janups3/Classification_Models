{
 "cells": [
  {
   "cell_type": "code",
   "execution_count": 1,
   "metadata": {},
   "outputs": [],
   "source": [
    "#Importing the libraries that will be used in this program.\n",
    "\n",
    "import matplotlib.pyplot as plt\n",
    "from sklearn.neighbors import KNeighborsClassifier #For KNN classifier\n",
    "from sklearn import neighbors, preprocessing\n",
    "from sklearn.model_selection import train_test_split\n",
    "from sklearn import metrics\n",
    "from sklearn.metrics import accuracy_score, confusion_matrix, classification_report\n",
    "import seaborn as sn\n",
    "import pandas as pd\n",
    "import numpy as np\n",
    "\n",
    "#This command is used to plot figures in our jupyter notebook\n",
    "\n",
    "%matplotlib inline"
   ]
  },
  {
   "cell_type": "code",
   "execution_count": 2,
   "metadata": {},
   "outputs": [],
   "source": [
    "#Importing the data into our program.\n",
    "\n",
    "data = pd.read_csv('Dataset1.csv')"
   ]
  },
  {
   "cell_type": "code",
   "execution_count": 3,
   "metadata": {},
   "outputs": [],
   "source": [
    "#Creating a dataframe for the data using pandas library.\n",
    "\n",
    "df = pd.DataFrame(data)"
   ]
  },
  {
   "cell_type": "code",
   "execution_count": 4,
   "metadata": {},
   "outputs": [
    {
     "data": {
      "text/html": [
       "<div>\n",
       "<style scoped>\n",
       "    .dataframe tbody tr th:only-of-type {\n",
       "        vertical-align: middle;\n",
       "    }\n",
       "\n",
       "    .dataframe tbody tr th {\n",
       "        vertical-align: top;\n",
       "    }\n",
       "\n",
       "    .dataframe thead th {\n",
       "        text-align: right;\n",
       "    }\n",
       "</style>\n",
       "<table border=\"1\" class=\"dataframe\">\n",
       "  <thead>\n",
       "    <tr style=\"text-align: right;\">\n",
       "      <th></th>\n",
       "      <th>acousticness</th>\n",
       "      <th>danceability</th>\n",
       "      <th>duration_ms</th>\n",
       "      <th>energy</th>\n",
       "      <th>instrumentalness</th>\n",
       "      <th>key</th>\n",
       "      <th>liveness</th>\n",
       "      <th>loudness</th>\n",
       "      <th>mode</th>\n",
       "      <th>speechiness</th>\n",
       "      <th>tempo</th>\n",
       "      <th>valence</th>\n",
       "      <th>target</th>\n",
       "    </tr>\n",
       "  </thead>\n",
       "  <tbody>\n",
       "    <tr>\n",
       "      <th>0</th>\n",
       "      <td>0.0133</td>\n",
       "      <td>0.773</td>\n",
       "      <td>204014</td>\n",
       "      <td>0.507</td>\n",
       "      <td>0.26</td>\n",
       "      <td>1</td>\n",
       "      <td>0.170</td>\n",
       "      <td>-9.584</td>\n",
       "      <td>1</td>\n",
       "      <td>0.0505</td>\n",
       "      <td>126.043</td>\n",
       "      <td>0.304</td>\n",
       "      <td>1</td>\n",
       "    </tr>\n",
       "    <tr>\n",
       "      <th>1</th>\n",
       "      <td>0.1750</td>\n",
       "      <td>0.661</td>\n",
       "      <td>265947</td>\n",
       "      <td>0.748</td>\n",
       "      <td>0.00</td>\n",
       "      <td>2</td>\n",
       "      <td>0.254</td>\n",
       "      <td>-4.809</td>\n",
       "      <td>0</td>\n",
       "      <td>0.2060</td>\n",
       "      <td>171.983</td>\n",
       "      <td>0.509</td>\n",
       "      <td>1</td>\n",
       "    </tr>\n",
       "    <tr>\n",
       "      <th>2</th>\n",
       "      <td>0.1280</td>\n",
       "      <td>0.755</td>\n",
       "      <td>141827</td>\n",
       "      <td>0.772</td>\n",
       "      <td>0.00</td>\n",
       "      <td>6</td>\n",
       "      <td>0.157</td>\n",
       "      <td>-5.585</td>\n",
       "      <td>1</td>\n",
       "      <td>0.4000</td>\n",
       "      <td>132.906</td>\n",
       "      <td>0.678</td>\n",
       "      <td>1</td>\n",
       "    </tr>\n",
       "    <tr>\n",
       "      <th>3</th>\n",
       "      <td>0.0169</td>\n",
       "      <td>0.852</td>\n",
       "      <td>216600</td>\n",
       "      <td>0.752</td>\n",
       "      <td>0.00</td>\n",
       "      <td>1</td>\n",
       "      <td>0.394</td>\n",
       "      <td>-5.793</td>\n",
       "      <td>1</td>\n",
       "      <td>0.0597</td>\n",
       "      <td>89.950</td>\n",
       "      <td>0.389</td>\n",
       "      <td>1</td>\n",
       "    </tr>\n",
       "    <tr>\n",
       "      <th>4</th>\n",
       "      <td>0.1450</td>\n",
       "      <td>0.808</td>\n",
       "      <td>210800</td>\n",
       "      <td>0.745</td>\n",
       "      <td>0.00</td>\n",
       "      <td>10</td>\n",
       "      <td>0.292</td>\n",
       "      <td>-5.260</td>\n",
       "      <td>0</td>\n",
       "      <td>0.3420</td>\n",
       "      <td>165.995</td>\n",
       "      <td>0.829</td>\n",
       "      <td>1</td>\n",
       "    </tr>\n",
       "  </tbody>\n",
       "</table>\n",
       "</div>"
      ],
      "text/plain": [
       "   acousticness  danceability  duration_ms  energy  instrumentalness  key  \\\n",
       "0        0.0133         0.773       204014   0.507              0.26    1   \n",
       "1        0.1750         0.661       265947   0.748              0.00    2   \n",
       "2        0.1280         0.755       141827   0.772              0.00    6   \n",
       "3        0.0169         0.852       216600   0.752              0.00    1   \n",
       "4        0.1450         0.808       210800   0.745              0.00   10   \n",
       "\n",
       "   liveness  loudness  mode  speechiness    tempo  valence  target  \n",
       "0     0.170    -9.584     1       0.0505  126.043    0.304       1  \n",
       "1     0.254    -4.809     0       0.2060  171.983    0.509       1  \n",
       "2     0.157    -5.585     1       0.4000  132.906    0.678       1  \n",
       "3     0.394    -5.793     1       0.0597   89.950    0.389       1  \n",
       "4     0.292    -5.260     0       0.3420  165.995    0.829       1  "
      ]
     },
     "execution_count": 4,
     "metadata": {},
     "output_type": "execute_result"
    }
   ],
   "source": [
    "#Overview of the dataframe. head() command only gives the values for the first 5 rows.\n",
    "\n",
    "df.head()"
   ]
  },
  {
   "cell_type": "code",
   "execution_count": 5,
   "metadata": {},
   "outputs": [
    {
     "data": {
      "text/html": [
       "<div>\n",
       "<style scoped>\n",
       "    .dataframe tbody tr th:only-of-type {\n",
       "        vertical-align: middle;\n",
       "    }\n",
       "\n",
       "    .dataframe tbody tr th {\n",
       "        vertical-align: top;\n",
       "    }\n",
       "\n",
       "    .dataframe thead th {\n",
       "        text-align: right;\n",
       "    }\n",
       "</style>\n",
       "<table border=\"1\" class=\"dataframe\">\n",
       "  <thead>\n",
       "    <tr style=\"text-align: right;\">\n",
       "      <th></th>\n",
       "      <th>acousticness</th>\n",
       "      <th>danceability</th>\n",
       "      <th>duration_ms</th>\n",
       "      <th>energy</th>\n",
       "      <th>instrumentalness</th>\n",
       "      <th>key</th>\n",
       "      <th>liveness</th>\n",
       "      <th>loudness</th>\n",
       "      <th>mode</th>\n",
       "      <th>speechiness</th>\n",
       "      <th>tempo</th>\n",
       "      <th>valence</th>\n",
       "    </tr>\n",
       "  </thead>\n",
       "  <tbody>\n",
       "    <tr>\n",
       "      <th>0</th>\n",
       "      <td>0.0133</td>\n",
       "      <td>0.773</td>\n",
       "      <td>204014</td>\n",
       "      <td>0.507</td>\n",
       "      <td>0.26</td>\n",
       "      <td>1</td>\n",
       "      <td>0.170</td>\n",
       "      <td>-9.584</td>\n",
       "      <td>1</td>\n",
       "      <td>0.0505</td>\n",
       "      <td>126.043</td>\n",
       "      <td>0.304</td>\n",
       "    </tr>\n",
       "    <tr>\n",
       "      <th>1</th>\n",
       "      <td>0.1750</td>\n",
       "      <td>0.661</td>\n",
       "      <td>265947</td>\n",
       "      <td>0.748</td>\n",
       "      <td>0.00</td>\n",
       "      <td>2</td>\n",
       "      <td>0.254</td>\n",
       "      <td>-4.809</td>\n",
       "      <td>0</td>\n",
       "      <td>0.2060</td>\n",
       "      <td>171.983</td>\n",
       "      <td>0.509</td>\n",
       "    </tr>\n",
       "    <tr>\n",
       "      <th>2</th>\n",
       "      <td>0.1280</td>\n",
       "      <td>0.755</td>\n",
       "      <td>141827</td>\n",
       "      <td>0.772</td>\n",
       "      <td>0.00</td>\n",
       "      <td>6</td>\n",
       "      <td>0.157</td>\n",
       "      <td>-5.585</td>\n",
       "      <td>1</td>\n",
       "      <td>0.4000</td>\n",
       "      <td>132.906</td>\n",
       "      <td>0.678</td>\n",
       "    </tr>\n",
       "    <tr>\n",
       "      <th>3</th>\n",
       "      <td>0.0169</td>\n",
       "      <td>0.852</td>\n",
       "      <td>216600</td>\n",
       "      <td>0.752</td>\n",
       "      <td>0.00</td>\n",
       "      <td>1</td>\n",
       "      <td>0.394</td>\n",
       "      <td>-5.793</td>\n",
       "      <td>1</td>\n",
       "      <td>0.0597</td>\n",
       "      <td>89.950</td>\n",
       "      <td>0.389</td>\n",
       "    </tr>\n",
       "    <tr>\n",
       "      <th>4</th>\n",
       "      <td>0.1450</td>\n",
       "      <td>0.808</td>\n",
       "      <td>210800</td>\n",
       "      <td>0.745</td>\n",
       "      <td>0.00</td>\n",
       "      <td>10</td>\n",
       "      <td>0.292</td>\n",
       "      <td>-5.260</td>\n",
       "      <td>0</td>\n",
       "      <td>0.3420</td>\n",
       "      <td>165.995</td>\n",
       "      <td>0.829</td>\n",
       "    </tr>\n",
       "  </tbody>\n",
       "</table>\n",
       "</div>"
      ],
      "text/plain": [
       "   acousticness  danceability  duration_ms  energy  instrumentalness  key  \\\n",
       "0        0.0133         0.773       204014   0.507              0.26    1   \n",
       "1        0.1750         0.661       265947   0.748              0.00    2   \n",
       "2        0.1280         0.755       141827   0.772              0.00    6   \n",
       "3        0.0169         0.852       216600   0.752              0.00    1   \n",
       "4        0.1450         0.808       210800   0.745              0.00   10   \n",
       "\n",
       "   liveness  loudness  mode  speechiness    tempo  valence  \n",
       "0     0.170    -9.584     1       0.0505  126.043    0.304  \n",
       "1     0.254    -4.809     0       0.2060  171.983    0.509  \n",
       "2     0.157    -5.585     1       0.4000  132.906    0.678  \n",
       "3     0.394    -5.793     1       0.0597   89.950    0.389  \n",
       "4     0.292    -5.260     0       0.3420  165.995    0.829  "
      ]
     },
     "execution_count": 5,
     "metadata": {},
     "output_type": "execute_result"
    }
   ],
   "source": [
    "#Assigning all the features to the variable X.\n",
    "\n",
    "X = df.drop(['target'], axis='columns')\n",
    "X.head()"
   ]
  },
  {
   "cell_type": "code",
   "execution_count": 6,
   "metadata": {
    "scrolled": true
   },
   "outputs": [],
   "source": [
    "#Assigning the labaelled class to variable y.\n",
    "\n",
    "y = df.target"
   ]
  },
  {
   "cell_type": "code",
   "execution_count": 7,
   "metadata": {
    "scrolled": true
   },
   "outputs": [],
   "source": [
    "#Splitting the data into train and test set\n",
    "\n",
    "X_train, X_test, y_train, y_test = train_test_split(X, y, test_size=0.25, random_state = 17)"
   ]
  },
  {
   "cell_type": "code",
   "execution_count": 8,
   "metadata": {},
   "outputs": [
    {
     "name": "stdout",
     "output_type": "stream",
     "text": [
      "(1032, 12) (345, 12)\n"
     ]
    }
   ],
   "source": [
    "print(X_train.shape,X_test.shape)"
   ]
  },
  {
   "cell_type": "code",
   "execution_count": 9,
   "metadata": {},
   "outputs": [
    {
     "data": {
      "text/plain": [
       "KNeighborsClassifier(n_neighbors=12, p=1)"
      ]
     },
     "execution_count": 9,
     "metadata": {},
     "output_type": "execute_result"
    }
   ],
   "source": [
    "#The model\n",
    "\n",
    "model = neighbors.KNeighborsClassifier(n_neighbors=12, p=1)\n",
    "\n",
    "#Fitting the model\n",
    "\n",
    "model.fit(X_train, y_train)"
   ]
  },
  {
   "cell_type": "code",
   "execution_count": 10,
   "metadata": {},
   "outputs": [
    {
     "name": "stdout",
     "output_type": "stream",
     "text": [
      "              precision    recall  f1-score   support\n",
      "\n",
      "           0       0.50      0.62      0.56       168\n",
      "           1       0.54      0.41      0.47       177\n",
      "\n",
      "    accuracy                           0.52       345\n",
      "   macro avg       0.52      0.52      0.51       345\n",
      "weighted avg       0.52      0.52      0.51       345\n",
      "\n"
     ]
    }
   ],
   "source": [
    "#To get the classification report such as precision and recall, which are useful for us in this project.\n",
    "\n",
    "y_expect = y_test\n",
    "y_pred = model.predict(X_test)\n",
    "\n",
    "print(metrics.classification_report(y_expect, y_pred))"
   ]
  },
  {
   "cell_type": "code",
   "execution_count": 11,
   "metadata": {},
   "outputs": [
    {
     "data": {
      "text/plain": [
       "0.5159420289855072"
      ]
     },
     "execution_count": 11,
     "metadata": {},
     "output_type": "execute_result"
    }
   ],
   "source": [
    "#To check the accuracy\n",
    "\n",
    "model.score(X_test, y_test)"
   ]
  },
  {
   "cell_type": "markdown",
   "metadata": {},
   "source": [
    "# Confusion Matrix"
   ]
  },
  {
   "cell_type": "code",
   "execution_count": 12,
   "metadata": {},
   "outputs": [],
   "source": [
    "y_pred = model.predict(X_test)"
   ]
  },
  {
   "cell_type": "code",
   "execution_count": 13,
   "metadata": {},
   "outputs": [
    {
     "data": {
      "text/plain": [
       "array([[105,  63],\n",
       "       [104,  73]], dtype=int64)"
      ]
     },
     "execution_count": 13,
     "metadata": {},
     "output_type": "execute_result"
    }
   ],
   "source": [
    "cm = confusion_matrix(y_test, y_pred)\n",
    "cm"
   ]
  },
  {
   "cell_type": "code",
   "execution_count": 14,
   "metadata": {},
   "outputs": [
    {
     "data": {
      "text/plain": [
       "Text(69.0, 0.5, 'Truth')"
      ]
     },
     "execution_count": 14,
     "metadata": {},
     "output_type": "execute_result"
    },
    {
     "data": {
      "image/png": "[encoded data removed]",
      "text/plain": [
       "<Figure size 720x504 with 2 Axes>"
      ]
     },
     "metadata": {
      "needs_background": "light"
     },
     "output_type": "display_data"
    }
   ],
   "source": [
    "#To plot the confusion matrix\n",
    "\n",
    "plt.figure(figsize=(10,7))\n",
    "\n",
    "sn.heatmap(cm, annot = True,fmt='.2f')\n",
    "plt.xlabel('Predicted')\n",
    "plt.ylabel('Truth')"
   ]
  }
 ],
 "metadata": {
  "kernelspec": {
   "display_name": "Python 3",
   "language": "python",
   "name": "python3"
  },
  "language_info": {
   "codemirror_mode": {
    "name": "ipython",
    "version": 3
   },
   "file_extension": ".py",
   "mimetype": "text/x-python",
   "name": "python",
   "nbconvert_exporter": "python",
   "pygments_lexer": "ipython3",
   "version": "3.8.3"
  }
 },
 "nbformat": 4,
 "nbformat_minor": 4
}
