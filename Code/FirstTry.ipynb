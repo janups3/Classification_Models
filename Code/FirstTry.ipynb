{
 "cells": [
  {
   "cell_type": "code",
   "execution_count": 1,
   "metadata": {},
   "outputs": [],
   "source": [
    "import spotipy\n",
    "from spotipy.oauth2 import SpotifyClientCredentials\n",
    "\n",
    "client_credentials_manager = SpotifyClientCredentials()\n",
    "sp = spotipy.Spotify(client_credentials_manager=client_credentials_manager)"
   ]
  },
  {
   "cell_type": "code",
   "execution_count": 2,
   "metadata": {},
   "outputs": [],
   "source": [
    "import pandas as pd\n",
    "\n",
    "\n",
    "data = pd.read_csv('new_to_this.csv', delimiter=',' )"
   ]
  },
  {
   "cell_type": "code",
   "execution_count": 3,
   "metadata": {},
   "outputs": [],
   "source": [
    "track_id = data['URI']\n",
    "track_name = data['Track Name']\n",
    "artist_name = data ['Artist Name']"
   ]
  },
  {
   "cell_type": "code",
   "execution_count": 4,
   "metadata": {},
   "outputs": [
    {
     "name": "stdout",
     "output_type": "stream",
     "text": [
      "(532, 3)\n"
     ]
    },
    {
     "data": {
      "text/html": [
       "<div>\n",
       "<style scoped>\n",
       "    .dataframe tbody tr th:only-of-type {\n",
       "        vertical-align: middle;\n",
       "    }\n",
       "\n",
       "    .dataframe tbody tr th {\n",
       "        vertical-align: top;\n",
       "    }\n",
       "\n",
       "    .dataframe thead th {\n",
       "        text-align: right;\n",
       "    }\n",
       "</style>\n",
       "<table border=\"1\" class=\"dataframe\">\n",
       "  <thead>\n",
       "    <tr style=\"text-align: right;\">\n",
       "      <th></th>\n",
       "      <th>artist_name</th>\n",
       "      <th>track_id</th>\n",
       "      <th>track_name</th>\n",
       "    </tr>\n",
       "  </thead>\n",
       "  <tbody>\n",
       "    <tr>\n",
       "      <th>0</th>\n",
       "      <td>Arizona Zervas</td>\n",
       "      <td>spotify:track:696DnlkuDOXcMAnKlTgXXK</td>\n",
       "      <td>ROXANNE</td>\n",
       "    </tr>\n",
       "    <tr>\n",
       "      <th>1</th>\n",
       "      <td>Laurin Hunter</td>\n",
       "      <td>spotify:track:20GPxJxLDsMFE37BRBx9LW</td>\n",
       "      <td>Follow the Rules...</td>\n",
       "    </tr>\n",
       "    <tr>\n",
       "      <th>2</th>\n",
       "      <td>Maluma</td>\n",
       "      <td>spotify:track:0rIZ49wxDf8H2LXOKmAMW5</td>\n",
       "      <td>Qué Chimba</td>\n",
       "    </tr>\n",
       "    <tr>\n",
       "      <th>3</th>\n",
       "      <td>SAINt JHN</td>\n",
       "      <td>spotify:track:0easEmosKkPhksg0qidzXo</td>\n",
       "      <td>Roses</td>\n",
       "    </tr>\n",
       "    <tr>\n",
       "      <th>4</th>\n",
       "      <td>Aris Nieman, Philine</td>\n",
       "      <td>spotify:track:4FoFcBEOngJYavrERweQdf</td>\n",
       "      <td>Take Me Back</td>\n",
       "    </tr>\n",
       "  </tbody>\n",
       "</table>\n",
       "</div>"
      ],
      "text/plain": [
       "            artist_name                              track_id  \\\n",
       "0        Arizona Zervas  spotify:track:696DnlkuDOXcMAnKlTgXXK   \n",
       "1         Laurin Hunter  spotify:track:20GPxJxLDsMFE37BRBx9LW   \n",
       "2                Maluma  spotify:track:0rIZ49wxDf8H2LXOKmAMW5   \n",
       "3             SAINt JHN  spotify:track:0easEmosKkPhksg0qidzXo   \n",
       "4  Aris Nieman, Philine  spotify:track:4FoFcBEOngJYavrERweQdf   \n",
       "\n",
       "            track_name  \n",
       "0              ROXANNE  \n",
       "1  Follow the Rules...  \n",
       "2           Qué Chimba  \n",
       "3                Roses  \n",
       "4         Take Me Back  "
      ]
     },
     "execution_count": 4,
     "metadata": {},
     "output_type": "execute_result"
    }
   ],
   "source": [
    "df=pd.DataFrame({'artist_name':artist_name,'track_name':track_name,'track_id':track_id})\n",
    "print(df.shape)\n",
    "df.head()"
   ]
  },
  {
   "cell_type": "code",
   "execution_count": 5,
   "metadata": {},
   "outputs": [
    {
     "name": "stdout",
     "output_type": "stream",
     "text": [
      "<class 'pandas.core.frame.DataFrame'>\n",
      "RangeIndex: 532 entries, 0 to 531\n",
      "Data columns (total 3 columns):\n",
      "artist_name    532 non-null object\n",
      "track_id       532 non-null object\n",
      "track_name     532 non-null object\n",
      "dtypes: object(3)\n",
      "memory usage: 12.5+ KB\n"
     ]
    }
   ],
   "source": [
    "df.info()\n",
    "\n",
    "#we did this to check if there are null items or not. Check the corresponding document with it to write it in the report."
   ]
  },
  {
   "cell_type": "code",
   "execution_count": 6,
   "metadata": {},
   "outputs": [
    {
     "data": {
      "text/plain": [
       "(532, 3)"
      ]
     },
     "execution_count": 6,
     "metadata": {},
     "output_type": "execute_result"
    }
   ],
   "source": [
    "df.shape"
   ]
  },
  {
   "cell_type": "code",
   "execution_count": 7,
   "metadata": {},
   "outputs": [
    {
     "name": "stdout",
     "output_type": "stream",
     "text": [
      "('Number of tracks where no audio features were available:', 0)\n"
     ]
    }
   ],
   "source": [
    "rows = []\n",
    "batchsize = 100\n",
    "NoneC = 0\n",
    "\n",
    "for i in range(0,len(df['track_id']),batchsize):\n",
    "    batch = df['track_id'][i:i+batchsize]\n",
    "    feature_results = sp.audio_features(batch)\n",
    "    for i, t in enumerate(feature_results):\n",
    "        if t == None:\n",
    "            NoneC = NoneC + 1\n",
    "        else:\n",
    "            rows.append(t)\n",
    "            \n",
    "print('Number of tracks where no audio features were available:',NoneC)\n"
   ]
  },
  {
   "cell_type": "code",
   "execution_count": 8,
   "metadata": {},
   "outputs": [
    {
     "name": "stdout",
     "output_type": "stream",
     "text": [
      "('number of elements in the track_id list:', 532)\n"
     ]
    }
   ],
   "source": [
    "print('number of elements in the track_id list:', len(rows))"
   ]
  },
  {
   "cell_type": "code",
   "execution_count": 9,
   "metadata": {},
   "outputs": [
    {
     "name": "stdout",
     "output_type": "stream",
     "text": [
      "('Shape of the dataset:', (532, 18))\n"
     ]
    },
    {
     "data": {
      "text/html": [
       "<div>\n",
       "<style scoped>\n",
       "    .dataframe tbody tr th:only-of-type {\n",
       "        vertical-align: middle;\n",
       "    }\n",
       "\n",
       "    .dataframe tbody tr th {\n",
       "        vertical-align: top;\n",
       "    }\n",
       "\n",
       "    .dataframe thead th {\n",
       "        text-align: right;\n",
       "    }\n",
       "</style>\n",
       "<table border=\"1\" class=\"dataframe\">\n",
       "  <thead>\n",
       "    <tr style=\"text-align: right;\">\n",
       "      <th></th>\n",
       "      <th>acousticness</th>\n",
       "      <th>analysis_url</th>\n",
       "      <th>danceability</th>\n",
       "      <th>duration_ms</th>\n",
       "      <th>energy</th>\n",
       "      <th>id</th>\n",
       "      <th>instrumentalness</th>\n",
       "      <th>key</th>\n",
       "      <th>liveness</th>\n",
       "      <th>loudness</th>\n",
       "      <th>mode</th>\n",
       "      <th>speechiness</th>\n",
       "      <th>tempo</th>\n",
       "      <th>time_signature</th>\n",
       "      <th>track_href</th>\n",
       "      <th>type</th>\n",
       "      <th>uri</th>\n",
       "      <th>valence</th>\n",
       "    </tr>\n",
       "  </thead>\n",
       "  <tbody>\n",
       "    <tr>\n",
       "      <th>0</th>\n",
       "      <td>0.0522</td>\n",
       "      <td>https://api.spotify.com/v1/audio-analysis/696D...</td>\n",
       "      <td>0.621</td>\n",
       "      <td>163636</td>\n",
       "      <td>0.601</td>\n",
       "      <td>696DnlkuDOXcMAnKlTgXXK</td>\n",
       "      <td>0.000000</td>\n",
       "      <td>6</td>\n",
       "      <td>0.4600</td>\n",
       "      <td>-5.616</td>\n",
       "      <td>0</td>\n",
       "      <td>0.1480</td>\n",
       "      <td>116.735</td>\n",
       "      <td>5</td>\n",
       "      <td>https://api.spotify.com/v1/tracks/696DnlkuDOXc...</td>\n",
       "      <td>audio_features</td>\n",
       "      <td>spotify:track:696DnlkuDOXcMAnKlTgXXK</td>\n",
       "      <td>0.457</td>\n",
       "    </tr>\n",
       "    <tr>\n",
       "      <th>1</th>\n",
       "      <td>0.4620</td>\n",
       "      <td>https://api.spotify.com/v1/audio-analysis/20GP...</td>\n",
       "      <td>0.649</td>\n",
       "      <td>201429</td>\n",
       "      <td>0.494</td>\n",
       "      <td>20GPxJxLDsMFE37BRBx9LW</td>\n",
       "      <td>0.142000</td>\n",
       "      <td>11</td>\n",
       "      <td>0.0782</td>\n",
       "      <td>-7.148</td>\n",
       "      <td>1</td>\n",
       "      <td>0.0256</td>\n",
       "      <td>112.023</td>\n",
       "      <td>4</td>\n",
       "      <td>https://api.spotify.com/v1/tracks/20GPxJxLDsMF...</td>\n",
       "      <td>audio_features</td>\n",
       "      <td>spotify:track:20GPxJxLDsMFE37BRBx9LW</td>\n",
       "      <td>0.173</td>\n",
       "    </tr>\n",
       "    <tr>\n",
       "      <th>2</th>\n",
       "      <td>0.0112</td>\n",
       "      <td>https://api.spotify.com/v1/audio-analysis/0rIZ...</td>\n",
       "      <td>0.725</td>\n",
       "      <td>169741</td>\n",
       "      <td>0.949</td>\n",
       "      <td>0rIZ49wxDf8H2LXOKmAMW5</td>\n",
       "      <td>0.001960</td>\n",
       "      <td>7</td>\n",
       "      <td>0.1520</td>\n",
       "      <td>-3.416</td>\n",
       "      <td>1</td>\n",
       "      <td>0.0814</td>\n",
       "      <td>128.001</td>\n",
       "      <td>4</td>\n",
       "      <td>https://api.spotify.com/v1/tracks/0rIZ49wxDf8H...</td>\n",
       "      <td>audio_features</td>\n",
       "      <td>spotify:track:0rIZ49wxDf8H2LXOKmAMW5</td>\n",
       "      <td>0.581</td>\n",
       "    </tr>\n",
       "    <tr>\n",
       "      <th>3</th>\n",
       "      <td>0.3420</td>\n",
       "      <td>https://api.spotify.com/v1/audio-analysis/0eas...</td>\n",
       "      <td>0.782</td>\n",
       "      <td>173611</td>\n",
       "      <td>0.500</td>\n",
       "      <td>0easEmosKkPhksg0qidzXo</td>\n",
       "      <td>0.000021</td>\n",
       "      <td>5</td>\n",
       "      <td>0.1330</td>\n",
       "      <td>-6.473</td>\n",
       "      <td>0</td>\n",
       "      <td>0.0611</td>\n",
       "      <td>102.001</td>\n",
       "      <td>4</td>\n",
       "      <td>https://api.spotify.com/v1/tracks/0easEmosKkPh...</td>\n",
       "      <td>audio_features</td>\n",
       "      <td>spotify:track:0easEmosKkPhksg0qidzXo</td>\n",
       "      <td>0.281</td>\n",
       "    </tr>\n",
       "    <tr>\n",
       "      <th>4</th>\n",
       "      <td>0.7200</td>\n",
       "      <td>https://api.spotify.com/v1/audio-analysis/4FoF...</td>\n",
       "      <td>0.598</td>\n",
       "      <td>181132</td>\n",
       "      <td>0.536</td>\n",
       "      <td>4FoFcBEOngJYavrERweQdf</td>\n",
       "      <td>0.000102</td>\n",
       "      <td>8</td>\n",
       "      <td>0.1020</td>\n",
       "      <td>-8.840</td>\n",
       "      <td>0</td>\n",
       "      <td>0.0634</td>\n",
       "      <td>105.765</td>\n",
       "      <td>4</td>\n",
       "      <td>https://api.spotify.com/v1/tracks/4FoFcBEOngJY...</td>\n",
       "      <td>audio_features</td>\n",
       "      <td>spotify:track:4FoFcBEOngJYavrERweQdf</td>\n",
       "      <td>0.243</td>\n",
       "    </tr>\n",
       "  </tbody>\n",
       "</table>\n",
       "</div>"
      ],
      "text/plain": [
       "   acousticness                                       analysis_url  \\\n",
       "0        0.0522  https://api.spotify.com/v1/audio-analysis/696D...   \n",
       "1        0.4620  https://api.spotify.com/v1/audio-analysis/20GP...   \n",
       "2        0.0112  https://api.spotify.com/v1/audio-analysis/0rIZ...   \n",
       "3        0.3420  https://api.spotify.com/v1/audio-analysis/0eas...   \n",
       "4        0.7200  https://api.spotify.com/v1/audio-analysis/4FoF...   \n",
       "\n",
       "   danceability  duration_ms  energy                      id  \\\n",
       "0         0.621       163636   0.601  696DnlkuDOXcMAnKlTgXXK   \n",
       "1         0.649       201429   0.494  20GPxJxLDsMFE37BRBx9LW   \n",
       "2         0.725       169741   0.949  0rIZ49wxDf8H2LXOKmAMW5   \n",
       "3         0.782       173611   0.500  0easEmosKkPhksg0qidzXo   \n",
       "4         0.598       181132   0.536  4FoFcBEOngJYavrERweQdf   \n",
       "\n",
       "   instrumentalness  key  liveness  loudness  mode  speechiness    tempo  \\\n",
       "0          0.000000    6    0.4600    -5.616     0       0.1480  116.735   \n",
       "1          0.142000   11    0.0782    -7.148     1       0.0256  112.023   \n",
       "2          0.001960    7    0.1520    -3.416     1       0.0814  128.001   \n",
       "3          0.000021    5    0.1330    -6.473     0       0.0611  102.001   \n",
       "4          0.000102    8    0.1020    -8.840     0       0.0634  105.765   \n",
       "\n",
       "   time_signature                                         track_href  \\\n",
       "0               5  https://api.spotify.com/v1/tracks/696DnlkuDOXc...   \n",
       "1               4  https://api.spotify.com/v1/tracks/20GPxJxLDsMF...   \n",
       "2               4  https://api.spotify.com/v1/tracks/0rIZ49wxDf8H...   \n",
       "3               4  https://api.spotify.com/v1/tracks/0easEmosKkPh...   \n",
       "4               4  https://api.spotify.com/v1/tracks/4FoFcBEOngJY...   \n",
       "\n",
       "             type                                   uri  valence  \n",
       "0  audio_features  spotify:track:696DnlkuDOXcMAnKlTgXXK    0.457  \n",
       "1  audio_features  spotify:track:20GPxJxLDsMFE37BRBx9LW    0.173  \n",
       "2  audio_features  spotify:track:0rIZ49wxDf8H2LXOKmAMW5    0.581  \n",
       "3  audio_features  spotify:track:0easEmosKkPhksg0qidzXo    0.281  \n",
       "4  audio_features  spotify:track:4FoFcBEOngJYavrERweQdf    0.243  "
      ]
     },
     "execution_count": 9,
     "metadata": {},
     "output_type": "execute_result"
    }
   ],
   "source": [
    "df_audio_features = pd.DataFrame.from_dict(rows,orient='columns')\n",
    "print(\"Shape of the dataset:\", df_audio_features.shape)\n",
    "df_audio_features.head()"
   ]
  },
  {
   "cell_type": "code",
   "execution_count": 10,
   "metadata": {},
   "outputs": [
    {
     "name": "stdout",
     "output_type": "stream",
     "text": [
      "<class 'pandas.core.frame.DataFrame'>\n",
      "RangeIndex: 532 entries, 0 to 531\n",
      "Data columns (total 18 columns):\n",
      "acousticness        532 non-null float64\n",
      "analysis_url        532 non-null object\n",
      "danceability        532 non-null float64\n",
      "duration_ms         532 non-null int64\n",
      "energy              532 non-null float64\n",
      "id                  532 non-null object\n",
      "instrumentalness    532 non-null float64\n",
      "key                 532 non-null int64\n",
      "liveness            532 non-null float64\n",
      "loudness            532 non-null float64\n",
      "mode                532 non-null int64\n",
      "speechiness         532 non-null float64\n",
      "tempo               532 non-null float64\n",
      "time_signature      532 non-null int64\n",
      "track_href          532 non-null object\n",
      "type                532 non-null object\n",
      "uri                 532 non-null object\n",
      "valence             532 non-null float64\n",
      "dtypes: float64(9), int64(4), object(5)\n",
      "memory usage: 74.9+ KB\n"
     ]
    }
   ],
   "source": [
    "df_audio_features.info()"
   ]
  },
  {
   "cell_type": "code",
   "execution_count": 11,
   "metadata": {
    "scrolled": true
   },
   "outputs": [
    {
     "data": {
      "text/plain": [
       "(532, 18)"
      ]
     },
     "execution_count": 11,
     "metadata": {},
     "output_type": "execute_result"
    }
   ],
   "source": [
    "df_audio_features.rename(columns={'id': 'track_id'}, inplace=True)\n",
    "\n",
    "df_audio_features.shape"
   ]
  },
  {
   "cell_type": "code",
   "execution_count": 12,
   "metadata": {},
   "outputs": [
    {
     "data": {
      "text/html": [
       "<div>\n",
       "<style scoped>\n",
       "    .dataframe tbody tr th:only-of-type {\n",
       "        vertical-align: middle;\n",
       "    }\n",
       "\n",
       "    .dataframe tbody tr th {\n",
       "        vertical-align: top;\n",
       "    }\n",
       "\n",
       "    .dataframe thead th {\n",
       "        text-align: right;\n",
       "    }\n",
       "</style>\n",
       "<table border=\"1\" class=\"dataframe\">\n",
       "  <thead>\n",
       "    <tr style=\"text-align: right;\">\n",
       "      <th></th>\n",
       "      <th>acousticness</th>\n",
       "      <th>analysis_url</th>\n",
       "      <th>danceability</th>\n",
       "      <th>duration_ms</th>\n",
       "      <th>energy</th>\n",
       "      <th>track_id</th>\n",
       "      <th>instrumentalness</th>\n",
       "      <th>key</th>\n",
       "      <th>liveness</th>\n",
       "      <th>loudness</th>\n",
       "      <th>mode</th>\n",
       "      <th>speechiness</th>\n",
       "      <th>tempo</th>\n",
       "      <th>time_signature</th>\n",
       "      <th>track_href</th>\n",
       "      <th>type</th>\n",
       "      <th>uri</th>\n",
       "      <th>valence</th>\n",
       "    </tr>\n",
       "  </thead>\n",
       "  <tbody>\n",
       "    <tr>\n",
       "      <th>0</th>\n",
       "      <td>0.0522</td>\n",
       "      <td>https://api.spotify.com/v1/audio-analysis/696D...</td>\n",
       "      <td>0.621</td>\n",
       "      <td>163636</td>\n",
       "      <td>0.601</td>\n",
       "      <td>696DnlkuDOXcMAnKlTgXXK</td>\n",
       "      <td>0.000000</td>\n",
       "      <td>6</td>\n",
       "      <td>0.4600</td>\n",
       "      <td>-5.616</td>\n",
       "      <td>0</td>\n",
       "      <td>0.1480</td>\n",
       "      <td>116.735</td>\n",
       "      <td>5</td>\n",
       "      <td>https://api.spotify.com/v1/tracks/696DnlkuDOXc...</td>\n",
       "      <td>audio_features</td>\n",
       "      <td>spotify:track:696DnlkuDOXcMAnKlTgXXK</td>\n",
       "      <td>0.457</td>\n",
       "    </tr>\n",
       "    <tr>\n",
       "      <th>1</th>\n",
       "      <td>0.4620</td>\n",
       "      <td>https://api.spotify.com/v1/audio-analysis/20GP...</td>\n",
       "      <td>0.649</td>\n",
       "      <td>201429</td>\n",
       "      <td>0.494</td>\n",
       "      <td>20GPxJxLDsMFE37BRBx9LW</td>\n",
       "      <td>0.142000</td>\n",
       "      <td>11</td>\n",
       "      <td>0.0782</td>\n",
       "      <td>-7.148</td>\n",
       "      <td>1</td>\n",
       "      <td>0.0256</td>\n",
       "      <td>112.023</td>\n",
       "      <td>4</td>\n",
       "      <td>https://api.spotify.com/v1/tracks/20GPxJxLDsMF...</td>\n",
       "      <td>audio_features</td>\n",
       "      <td>spotify:track:20GPxJxLDsMFE37BRBx9LW</td>\n",
       "      <td>0.173</td>\n",
       "    </tr>\n",
       "    <tr>\n",
       "      <th>2</th>\n",
       "      <td>0.0112</td>\n",
       "      <td>https://api.spotify.com/v1/audio-analysis/0rIZ...</td>\n",
       "      <td>0.725</td>\n",
       "      <td>169741</td>\n",
       "      <td>0.949</td>\n",
       "      <td>0rIZ49wxDf8H2LXOKmAMW5</td>\n",
       "      <td>0.001960</td>\n",
       "      <td>7</td>\n",
       "      <td>0.1520</td>\n",
       "      <td>-3.416</td>\n",
       "      <td>1</td>\n",
       "      <td>0.0814</td>\n",
       "      <td>128.001</td>\n",
       "      <td>4</td>\n",
       "      <td>https://api.spotify.com/v1/tracks/0rIZ49wxDf8H...</td>\n",
       "      <td>audio_features</td>\n",
       "      <td>spotify:track:0rIZ49wxDf8H2LXOKmAMW5</td>\n",
       "      <td>0.581</td>\n",
       "    </tr>\n",
       "    <tr>\n",
       "      <th>3</th>\n",
       "      <td>0.3420</td>\n",
       "      <td>https://api.spotify.com/v1/audio-analysis/0eas...</td>\n",
       "      <td>0.782</td>\n",
       "      <td>173611</td>\n",
       "      <td>0.500</td>\n",
       "      <td>0easEmosKkPhksg0qidzXo</td>\n",
       "      <td>0.000021</td>\n",
       "      <td>5</td>\n",
       "      <td>0.1330</td>\n",
       "      <td>-6.473</td>\n",
       "      <td>0</td>\n",
       "      <td>0.0611</td>\n",
       "      <td>102.001</td>\n",
       "      <td>4</td>\n",
       "      <td>https://api.spotify.com/v1/tracks/0easEmosKkPh...</td>\n",
       "      <td>audio_features</td>\n",
       "      <td>spotify:track:0easEmosKkPhksg0qidzXo</td>\n",
       "      <td>0.281</td>\n",
       "    </tr>\n",
       "    <tr>\n",
       "      <th>4</th>\n",
       "      <td>0.7200</td>\n",
       "      <td>https://api.spotify.com/v1/audio-analysis/4FoF...</td>\n",
       "      <td>0.598</td>\n",
       "      <td>181132</td>\n",
       "      <td>0.536</td>\n",
       "      <td>4FoFcBEOngJYavrERweQdf</td>\n",
       "      <td>0.000102</td>\n",
       "      <td>8</td>\n",
       "      <td>0.1020</td>\n",
       "      <td>-8.840</td>\n",
       "      <td>0</td>\n",
       "      <td>0.0634</td>\n",
       "      <td>105.765</td>\n",
       "      <td>4</td>\n",
       "      <td>https://api.spotify.com/v1/tracks/4FoFcBEOngJY...</td>\n",
       "      <td>audio_features</td>\n",
       "      <td>spotify:track:4FoFcBEOngJYavrERweQdf</td>\n",
       "      <td>0.243</td>\n",
       "    </tr>\n",
       "  </tbody>\n",
       "</table>\n",
       "</div>"
      ],
      "text/plain": [
       "   acousticness                                       analysis_url  \\\n",
       "0        0.0522  https://api.spotify.com/v1/audio-analysis/696D...   \n",
       "1        0.4620  https://api.spotify.com/v1/audio-analysis/20GP...   \n",
       "2        0.0112  https://api.spotify.com/v1/audio-analysis/0rIZ...   \n",
       "3        0.3420  https://api.spotify.com/v1/audio-analysis/0eas...   \n",
       "4        0.7200  https://api.spotify.com/v1/audio-analysis/4FoF...   \n",
       "\n",
       "   danceability  duration_ms  energy                track_id  \\\n",
       "0         0.621       163636   0.601  696DnlkuDOXcMAnKlTgXXK   \n",
       "1         0.649       201429   0.494  20GPxJxLDsMFE37BRBx9LW   \n",
       "2         0.725       169741   0.949  0rIZ49wxDf8H2LXOKmAMW5   \n",
       "3         0.782       173611   0.500  0easEmosKkPhksg0qidzXo   \n",
       "4         0.598       181132   0.536  4FoFcBEOngJYavrERweQdf   \n",
       "\n",
       "   instrumentalness  key  liveness  loudness  mode  speechiness    tempo  \\\n",
       "0          0.000000    6    0.4600    -5.616     0       0.1480  116.735   \n",
       "1          0.142000   11    0.0782    -7.148     1       0.0256  112.023   \n",
       "2          0.001960    7    0.1520    -3.416     1       0.0814  128.001   \n",
       "3          0.000021    5    0.1330    -6.473     0       0.0611  102.001   \n",
       "4          0.000102    8    0.1020    -8.840     0       0.0634  105.765   \n",
       "\n",
       "   time_signature                                         track_href  \\\n",
       "0               5  https://api.spotify.com/v1/tracks/696DnlkuDOXc...   \n",
       "1               4  https://api.spotify.com/v1/tracks/20GPxJxLDsMF...   \n",
       "2               4  https://api.spotify.com/v1/tracks/0rIZ49wxDf8H...   \n",
       "3               4  https://api.spotify.com/v1/tracks/0easEmosKkPh...   \n",
       "4               4  https://api.spotify.com/v1/tracks/4FoFcBEOngJY...   \n",
       "\n",
       "             type                                   uri  valence  \n",
       "0  audio_features  spotify:track:696DnlkuDOXcMAnKlTgXXK    0.457  \n",
       "1  audio_features  spotify:track:20GPxJxLDsMFE37BRBx9LW    0.173  \n",
       "2  audio_features  spotify:track:0rIZ49wxDf8H2LXOKmAMW5    0.581  \n",
       "3  audio_features  spotify:track:0easEmosKkPhksg0qidzXo    0.281  \n",
       "4  audio_features  spotify:track:4FoFcBEOngJYavrERweQdf    0.243  "
      ]
     },
     "execution_count": 12,
     "metadata": {},
     "output_type": "execute_result"
    }
   ],
   "source": [
    "df_audio_features.head()"
   ]
  },
  {
   "cell_type": "code",
   "execution_count": 13,
   "metadata": {},
   "outputs": [
    {
     "name": "stdout",
     "output_type": "stream",
     "text": [
      "('Shape of the dataset:', (532, 18))\n"
     ]
    },
    {
     "data": {
      "text/html": [
       "<div>\n",
       "<style scoped>\n",
       "    .dataframe tbody tr th:only-of-type {\n",
       "        vertical-align: middle;\n",
       "    }\n",
       "\n",
       "    .dataframe tbody tr th {\n",
       "        vertical-align: top;\n",
       "    }\n",
       "\n",
       "    .dataframe thead th {\n",
       "        text-align: right;\n",
       "    }\n",
       "</style>\n",
       "<table border=\"1\" class=\"dataframe\">\n",
       "  <thead>\n",
       "    <tr style=\"text-align: right;\">\n",
       "      <th></th>\n",
       "      <th>artist_name</th>\n",
       "      <th>track_id</th>\n",
       "      <th>track_name</th>\n",
       "      <th>acousticness</th>\n",
       "      <th>analysis_url</th>\n",
       "      <th>danceability</th>\n",
       "      <th>duration_ms</th>\n",
       "      <th>energy</th>\n",
       "      <th>instrumentalness</th>\n",
       "      <th>key</th>\n",
       "      <th>liveness</th>\n",
       "      <th>loudness</th>\n",
       "      <th>mode</th>\n",
       "      <th>speechiness</th>\n",
       "      <th>tempo</th>\n",
       "      <th>time_signature</th>\n",
       "      <th>track_href</th>\n",
       "      <th>type</th>\n",
       "      <th>uri</th>\n",
       "      <th>valence</th>\n",
       "    </tr>\n",
       "  </thead>\n",
       "  <tbody>\n",
       "  </tbody>\n",
       "</table>\n",
       "</div>"
      ],
      "text/plain": [
       "Empty DataFrame\n",
       "Columns: [artist_name, track_id, track_name, acousticness, analysis_url, danceability, duration_ms, energy, instrumentalness, key, liveness, loudness, mode, speechiness, tempo, time_signature, track_href, type, uri, valence]\n",
       "Index: []"
      ]
     },
     "execution_count": 13,
     "metadata": {},
     "output_type": "execute_result"
    }
   ],
   "source": [
    "dff = pd.merge(df,df_audio_features,on='track_id',how='inner')\n",
    "print(\"Shape of the dataset:\", df_audio_features.shape)\n",
    "dff.head()"
   ]
  },
  {
   "cell_type": "code",
   "execution_count": 14,
   "metadata": {},
   "outputs": [],
   "source": [
    "dff.to_csv('OmgFinally3.csv')"
   ]
  },
  {
   "cell_type": "markdown",
   "metadata": {},
   "source": [
    "<h1>This is the third playlist. Can only have 100 inputs in an excel file. I would recommend that download the track list again for all the playlists and then divide into excel sheets with 100 songs each."
   ]
  },
  {
   "cell_type": "code",
   "execution_count": null,
   "metadata": {},
   "outputs": [],
   "source": []
  }
 ],
 "metadata": {
  "kernelspec": {
   "display_name": "Python 2",
   "language": "python",
   "name": "python2"
  },
  "language_info": {
   "codemirror_mode": {
    "name": "ipython",
    "version": 2
   },
   "file_extension": ".py",
   "mimetype": "text/x-python",
   "name": "python",
   "nbconvert_exporter": "python",
   "pygments_lexer": "ipython2",
   "version": "2.7.17"
  }
 },
 "nbformat": 4,
 "nbformat_minor": 2
}
