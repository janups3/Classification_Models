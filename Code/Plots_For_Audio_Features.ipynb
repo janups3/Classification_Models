{
 "cells": [
  {
   "cell_type": "code",
   "execution_count": 9,
   "metadata": {},
   "outputs": [],
   "source": [
    "import pandas as pd\n",
    "import numpy as np\n",
    "\n",
    "from matplotlib import pyplot as plt\n",
    "import seaborn as sns\n",
    "\n",
    "%matplotlib inline"
   ]
  },
  {
   "cell_type": "code",
   "execution_count": 10,
   "metadata": {},
   "outputs": [],
   "source": [
    "data = pd.read_csv('Dataset1.csv')"
   ]
  },
  {
   "cell_type": "code",
   "execution_count": 11,
   "metadata": {},
   "outputs": [
    {
     "data": {
      "text/plain": [
       "pandas.core.frame.DataFrame"
      ]
     },
     "execution_count": 11,
     "metadata": {},
     "output_type": "execute_result"
    }
   ],
   "source": [
    "type(data)"
   ]
  },
  {
   "cell_type": "code",
   "execution_count": 12,
   "metadata": {},
   "outputs": [
    {
     "data": {
      "text/html": [
       "<div>\n",
       "<style scoped>\n",
       "    .dataframe tbody tr th:only-of-type {\n",
       "        vertical-align: middle;\n",
       "    }\n",
       "\n",
       "    .dataframe tbody tr th {\n",
       "        vertical-align: top;\n",
       "    }\n",
       "\n",
       "    .dataframe thead th {\n",
       "        text-align: right;\n",
       "    }\n",
       "</style>\n",
       "<table border=\"1\" class=\"dataframe\">\n",
       "  <thead>\n",
       "    <tr style=\"text-align: right;\">\n",
       "      <th></th>\n",
       "      <th>acousticness</th>\n",
       "      <th>danceability</th>\n",
       "      <th>duration_ms</th>\n",
       "      <th>energy</th>\n",
       "      <th>instrumentalness</th>\n",
       "      <th>key</th>\n",
       "      <th>liveness</th>\n",
       "      <th>loudness</th>\n",
       "      <th>mode</th>\n",
       "      <th>speechiness</th>\n",
       "      <th>tempo</th>\n",
       "      <th>time_signature</th>\n",
       "      <th>valence</th>\n",
       "    </tr>\n",
       "  </thead>\n",
       "  <tbody>\n",
       "    <tr>\n",
       "      <th>count</th>\n",
       "      <td>1458.000000</td>\n",
       "      <td>1458.000000</td>\n",
       "      <td>1458.000000</td>\n",
       "      <td>1458.000000</td>\n",
       "      <td>1458.000000</td>\n",
       "      <td>1458.000000</td>\n",
       "      <td>1458.000000</td>\n",
       "      <td>1458.000000</td>\n",
       "      <td>1458.000000</td>\n",
       "      <td>1458.000000</td>\n",
       "      <td>1458.000000</td>\n",
       "      <td>1458.000000</td>\n",
       "      <td>1458.000000</td>\n",
       "    </tr>\n",
       "    <tr>\n",
       "      <th>mean</th>\n",
       "      <td>0.176563</td>\n",
       "      <td>0.666989</td>\n",
       "      <td>206821.613855</td>\n",
       "      <td>0.679424</td>\n",
       "      <td>0.071937</td>\n",
       "      <td>5.508230</td>\n",
       "      <td>0.188783</td>\n",
       "      <td>-6.685122</td>\n",
       "      <td>0.510288</td>\n",
       "      <td>0.134103</td>\n",
       "      <td>124.586142</td>\n",
       "      <td>3.961591</td>\n",
       "      <td>0.451671</td>\n",
       "    </tr>\n",
       "    <tr>\n",
       "      <th>std</th>\n",
       "      <td>0.205756</td>\n",
       "      <td>0.149697</td>\n",
       "      <td>60943.647946</td>\n",
       "      <td>0.167276</td>\n",
       "      <td>0.207816</td>\n",
       "      <td>3.645251</td>\n",
       "      <td>0.144466</td>\n",
       "      <td>2.702704</td>\n",
       "      <td>0.500066</td>\n",
       "      <td>0.113574</td>\n",
       "      <td>28.541625</td>\n",
       "      <td>0.320699</td>\n",
       "      <td>0.231475</td>\n",
       "    </tr>\n",
       "    <tr>\n",
       "      <th>min</th>\n",
       "      <td>0.000000</td>\n",
       "      <td>0.065400</td>\n",
       "      <td>61753.000000</td>\n",
       "      <td>0.143000</td>\n",
       "      <td>0.000000</td>\n",
       "      <td>0.000000</td>\n",
       "      <td>0.023300</td>\n",
       "      <td>-19.865000</td>\n",
       "      <td>0.000000</td>\n",
       "      <td>0.025100</td>\n",
       "      <td>58.959000</td>\n",
       "      <td>1.000000</td>\n",
       "      <td>0.026700</td>\n",
       "    </tr>\n",
       "    <tr>\n",
       "      <th>25%</th>\n",
       "      <td>0.019225</td>\n",
       "      <td>0.573250</td>\n",
       "      <td>172010.500000</td>\n",
       "      <td>0.553250</td>\n",
       "      <td>0.000000</td>\n",
       "      <td>2.000000</td>\n",
       "      <td>0.100250</td>\n",
       "      <td>-8.033250</td>\n",
       "      <td>0.000000</td>\n",
       "      <td>0.049900</td>\n",
       "      <td>101.259250</td>\n",
       "      <td>4.000000</td>\n",
       "      <td>0.270000</td>\n",
       "    </tr>\n",
       "    <tr>\n",
       "      <th>50%</th>\n",
       "      <td>0.098000</td>\n",
       "      <td>0.687000</td>\n",
       "      <td>197515.000000</td>\n",
       "      <td>0.693500</td>\n",
       "      <td>0.000009</td>\n",
       "      <td>6.000000</td>\n",
       "      <td>0.129000</td>\n",
       "      <td>-6.281000</td>\n",
       "      <td>1.000000</td>\n",
       "      <td>0.085950</td>\n",
       "      <td>122.136500</td>\n",
       "      <td>4.000000</td>\n",
       "      <td>0.439000</td>\n",
       "    </tr>\n",
       "    <tr>\n",
       "      <th>75%</th>\n",
       "      <td>0.259000</td>\n",
       "      <td>0.777000</td>\n",
       "      <td>226289.000000</td>\n",
       "      <td>0.814000</td>\n",
       "      <td>0.001825</td>\n",
       "      <td>9.000000</td>\n",
       "      <td>0.235750</td>\n",
       "      <td>-4.810250</td>\n",
       "      <td>1.000000</td>\n",
       "      <td>0.197750</td>\n",
       "      <td>144.945500</td>\n",
       "      <td>4.000000</td>\n",
       "      <td>0.619000</td>\n",
       "    </tr>\n",
       "    <tr>\n",
       "      <th>max</th>\n",
       "      <td>0.976000</td>\n",
       "      <td>0.972000</td>\n",
       "      <td>824424.000000</td>\n",
       "      <td>0.998000</td>\n",
       "      <td>0.954000</td>\n",
       "      <td>11.000000</td>\n",
       "      <td>0.947000</td>\n",
       "      <td>4.140000</td>\n",
       "      <td>1.000000</td>\n",
       "      <td>0.955000</td>\n",
       "      <td>205.990000</td>\n",
       "      <td>5.000000</td>\n",
       "      <td>0.980000</td>\n",
       "    </tr>\n",
       "  </tbody>\n",
       "</table>\n",
       "</div>"
      ],
      "text/plain": [
       "       acousticness  danceability    duration_ms       energy  \\\n",
       "count   1458.000000   1458.000000    1458.000000  1458.000000   \n",
       "mean       0.176563      0.666989  206821.613855     0.679424   \n",
       "std        0.205756      0.149697   60943.647946     0.167276   \n",
       "min        0.000000      0.065400   61753.000000     0.143000   \n",
       "25%        0.019225      0.573250  172010.500000     0.553250   \n",
       "50%        0.098000      0.687000  197515.000000     0.693500   \n",
       "75%        0.259000      0.777000  226289.000000     0.814000   \n",
       "max        0.976000      0.972000  824424.000000     0.998000   \n",
       "\n",
       "       instrumentalness          key     liveness     loudness         mode  \\\n",
       "count       1458.000000  1458.000000  1458.000000  1458.000000  1458.000000   \n",
       "mean           0.071937     5.508230     0.188783    -6.685122     0.510288   \n",
       "std            0.207816     3.645251     0.144466     2.702704     0.500066   \n",
       "min            0.000000     0.000000     0.023300   -19.865000     0.000000   \n",
       "25%            0.000000     2.000000     0.100250    -8.033250     0.000000   \n",
       "50%            0.000009     6.000000     0.129000    -6.281000     1.000000   \n",
       "75%            0.001825     9.000000     0.235750    -4.810250     1.000000   \n",
       "max            0.954000    11.000000     0.947000     4.140000     1.000000   \n",
       "\n",
       "       speechiness        tempo  time_signature      valence  \n",
       "count  1458.000000  1458.000000     1458.000000  1458.000000  \n",
       "mean      0.134103   124.586142        3.961591     0.451671  \n",
       "std       0.113574    28.541625        0.320699     0.231475  \n",
       "min       0.025100    58.959000        1.000000     0.026700  \n",
       "25%       0.049900   101.259250        4.000000     0.270000  \n",
       "50%       0.085950   122.136500        4.000000     0.439000  \n",
       "75%       0.197750   144.945500        4.000000     0.619000  \n",
       "max       0.955000   205.990000        5.000000     0.980000  "
      ]
     },
     "execution_count": 12,
     "metadata": {},
     "output_type": "execute_result"
    }
   ],
   "source": [
    "data.describe() #by pandas"
   ]
  },
  {
   "cell_type": "code",
   "execution_count": 13,
   "metadata": {},
   "outputs": [
    {
     "data": {
      "text/html": [
       "<div>\n",
       "<style scoped>\n",
       "    .dataframe tbody tr th:only-of-type {\n",
       "        vertical-align: middle;\n",
       "    }\n",
       "\n",
       "    .dataframe tbody tr th {\n",
       "        vertical-align: top;\n",
       "    }\n",
       "\n",
       "    .dataframe thead th {\n",
       "        text-align: right;\n",
       "    }\n",
       "</style>\n",
       "<table border=\"1\" class=\"dataframe\">\n",
       "  <thead>\n",
       "    <tr style=\"text-align: right;\">\n",
       "      <th></th>\n",
       "      <th>artist_name</th>\n",
       "      <th>track_id</th>\n",
       "      <th>track_name</th>\n",
       "      <th>acousticness</th>\n",
       "      <th>danceability</th>\n",
       "      <th>duration_ms</th>\n",
       "      <th>energy</th>\n",
       "      <th>instrumentalness</th>\n",
       "      <th>key</th>\n",
       "      <th>liveness</th>\n",
       "      <th>loudness</th>\n",
       "      <th>mode</th>\n",
       "      <th>speechiness</th>\n",
       "      <th>tempo</th>\n",
       "      <th>time_signature</th>\n",
       "      <th>valence</th>\n",
       "      <th>class</th>\n",
       "    </tr>\n",
       "  </thead>\n",
       "  <tbody>\n",
       "    <tr>\n",
       "      <th>0</th>\n",
       "      <td>Levianth, Harley Bird</td>\n",
       "      <td>6WEKJTNRDOCLI3kdn06flO</td>\n",
       "      <td>Trapped</td>\n",
       "      <td>0.22000</td>\n",
       "      <td>0.688</td>\n",
       "      <td>171904</td>\n",
       "      <td>0.657</td>\n",
       "      <td>0.000040</td>\n",
       "      <td>0</td>\n",
       "      <td>0.326</td>\n",
       "      <td>-4.500</td>\n",
       "      <td>1</td>\n",
       "      <td>0.0323</td>\n",
       "      <td>115.966</td>\n",
       "      <td>4</td>\n",
       "      <td>0.475</td>\n",
       "      <td>yes</td>\n",
       "    </tr>\n",
       "    <tr>\n",
       "      <th>1</th>\n",
       "      <td>Emdi, Veronica Bravo</td>\n",
       "      <td>1uu8eSAIRT7vaa66q46Ijr</td>\n",
       "      <td>Obsessed</td>\n",
       "      <td>0.11700</td>\n",
       "      <td>0.529</td>\n",
       "      <td>140571</td>\n",
       "      <td>0.831</td>\n",
       "      <td>0.000000</td>\n",
       "      <td>6</td>\n",
       "      <td>0.185</td>\n",
       "      <td>-3.067</td>\n",
       "      <td>0</td>\n",
       "      <td>0.1530</td>\n",
       "      <td>139.839</td>\n",
       "      <td>4</td>\n",
       "      <td>0.366</td>\n",
       "      <td>yes</td>\n",
       "    </tr>\n",
       "    <tr>\n",
       "      <th>2</th>\n",
       "      <td>WHIPPED CREAM, Lil Xan</td>\n",
       "      <td>3INJvYa4XyBAm62TPNwSa8</td>\n",
       "      <td>Told Ya</td>\n",
       "      <td>0.07500</td>\n",
       "      <td>0.641</td>\n",
       "      <td>103252</td>\n",
       "      <td>0.694</td>\n",
       "      <td>0.000000</td>\n",
       "      <td>11</td>\n",
       "      <td>0.296</td>\n",
       "      <td>-4.349</td>\n",
       "      <td>1</td>\n",
       "      <td>0.2390</td>\n",
       "      <td>170.156</td>\n",
       "      <td>4</td>\n",
       "      <td>0.370</td>\n",
       "      <td>yes</td>\n",
       "    </tr>\n",
       "    <tr>\n",
       "      <th>3</th>\n",
       "      <td>Elko</td>\n",
       "      <td>6oS0nPho2XvKJfIMwV0ih0</td>\n",
       "      <td>Drunk and Out Of Town</td>\n",
       "      <td>0.07170</td>\n",
       "      <td>0.579</td>\n",
       "      <td>139373</td>\n",
       "      <td>0.848</td>\n",
       "      <td>0.000028</td>\n",
       "      <td>5</td>\n",
       "      <td>0.302</td>\n",
       "      <td>-3.838</td>\n",
       "      <td>0</td>\n",
       "      <td>0.0609</td>\n",
       "      <td>155.971</td>\n",
       "      <td>4</td>\n",
       "      <td>0.489</td>\n",
       "      <td>yes</td>\n",
       "    </tr>\n",
       "    <tr>\n",
       "      <th>4</th>\n",
       "      <td>Elko</td>\n",
       "      <td>69qTejtAq5P3Jd17571YEv</td>\n",
       "      <td>YOUâ€™RE FEELING THE SAME THINGS</td>\n",
       "      <td>0.00215</td>\n",
       "      <td>0.565</td>\n",
       "      <td>145653</td>\n",
       "      <td>0.883</td>\n",
       "      <td>0.000399</td>\n",
       "      <td>1</td>\n",
       "      <td>0.286</td>\n",
       "      <td>-3.430</td>\n",
       "      <td>1</td>\n",
       "      <td>0.0364</td>\n",
       "      <td>91.973</td>\n",
       "      <td>4</td>\n",
       "      <td>0.443</td>\n",
       "      <td>yes</td>\n",
       "    </tr>\n",
       "  </tbody>\n",
       "</table>\n",
       "</div>"
      ],
      "text/plain": [
       "              artist_name                track_id  \\\n",
       "0   Levianth, Harley Bird  6WEKJTNRDOCLI3kdn06flO   \n",
       "1    Emdi, Veronica Bravo  1uu8eSAIRT7vaa66q46Ijr   \n",
       "2  WHIPPED CREAM, Lil Xan  3INJvYa4XyBAm62TPNwSa8   \n",
       "3                    Elko  6oS0nPho2XvKJfIMwV0ih0   \n",
       "4                    Elko  69qTejtAq5P3Jd17571YEv   \n",
       "\n",
       "                         track_name  acousticness  danceability  duration_ms  \\\n",
       "0                           Trapped       0.22000         0.688       171904   \n",
       "1                          Obsessed       0.11700         0.529       140571   \n",
       "2                           Told Ya       0.07500         0.641       103252   \n",
       "3             Drunk and Out Of Town       0.07170         0.579       139373   \n",
       "4  YOUâ€™RE FEELING THE SAME THINGS       0.00215         0.565       145653   \n",
       "\n",
       "   energy  instrumentalness  key  liveness  loudness  mode  speechiness  \\\n",
       "0   0.657          0.000040    0     0.326    -4.500     1       0.0323   \n",
       "1   0.831          0.000000    6     0.185    -3.067     0       0.1530   \n",
       "2   0.694          0.000000   11     0.296    -4.349     1       0.2390   \n",
       "3   0.848          0.000028    5     0.302    -3.838     0       0.0609   \n",
       "4   0.883          0.000399    1     0.286    -3.430     1       0.0364   \n",
       "\n",
       "     tempo  time_signature  valence class  \n",
       "0  115.966               4    0.475   yes  \n",
       "1  139.839               4    0.366   yes  \n",
       "2  170.156               4    0.370   yes  \n",
       "3  155.971               4    0.489   yes  \n",
       "4   91.973               4    0.443   yes  "
      ]
     },
     "execution_count": 13,
     "metadata": {},
     "output_type": "execute_result"
    }
   ],
   "source": [
    "data.head()"
   ]
  },
  {
   "cell_type": "code",
   "execution_count": 14,
   "metadata": {},
   "outputs": [],
   "source": [
    "# Custom color palette\n",
    "red_blue = ['#19B5FE', '#EF4836']\n",
    "palette = sns.color_palette(red_blue)\n",
    "sns.set_palette(palette)"
   ]
  },
  {
   "cell_type": "code",
   "execution_count": 15,
   "metadata": {},
   "outputs": [],
   "source": [
    "liked_acousticness = data[data['class'] =='yes']['acousticness']\n",
    "disliked_acousticness = data[data['class'] == 'no']['acousticness']\n",
    "\n",
    "liked_danceability = data[data['class'] =='yes']['danceability']\n",
    "disliked_danceability = data[data['class'] == 'no']['danceability']\n",
    "\n",
    "liked_duration_ms = data[data['class'] =='yes']['duration_ms']\n",
    "disliked_duration_ms = data[data['class'] == 'no']['duration_ms']\n",
    "\n",
    "liked_energy = data[data['class'] =='yes']['energy']\n",
    "disliked_energy = data[data['class'] == 'no']['energy']\n",
    "\n",
    "liked_instrumentalness = data[data['class'] =='yes']['instrumentalness']\n",
    "disliked_instrumentalness = data[data['class'] == 'no']['instrumentalness']\n",
    "\n",
    "liked_key = data[data['class'] =='yes']['key']\n",
    "disliked_key = data[data['class'] == 'no']['key']\n",
    "\n",
    "liked_liveness = data[data['class'] =='yes']['liveness']\n",
    "disliked_liveness = data[data['class'] == 'no']['liveness']\n",
    "\n",
    "liked_loudness = data[data['class'] =='yes']['loudness']\n",
    "disliked_loudness = data[data['class'] == 'no']['loudness']\n",
    "\n",
    "liked_mode = data[data['class'] =='yes']['mode']\n",
    "disliked_mode = data[data['class'] == 'no']['mode']\n",
    "\n",
    "liked_speechiness = data[data['class'] =='yes']['speechiness']\n",
    "disliked_speechiness = data[data['class'] == 'no']['speechiness']\n",
    "\n",
    "liked_tempo = data[data['class'] =='yes']['tempo']\n",
    "disliked_tempo = data[data['class'] == 'no']['tempo']\n",
    "\n",
    "liked_time_signature = data[data['class'] =='yes']['time_signature']\n",
    "disliked_time_signature = data[data['class'] == 'no']['time_signature']\n",
    "\n",
    "liked_valence = data[data['class'] =='yes']['valence']\n",
    "disliked_valence = data[data['class'] == 'no']['valence']\n"
   ]
  },
  {
   "cell_type": "code",
   "execution_count": 16,
   "metadata": {},
   "outputs": [
    {
     "data": {
      "text/plain": [
       "<matplotlib.legend.Legend at 0x1c8b2888>"
      ]
     },
     "execution_count": 16,
     "metadata": {},
     "output_type": "execute_result"
    },
    {
     "data": {
      "image/png": "[encoded data removed]",
      "text/plain": [
       "<Figure size 720x576 with 1 Axes>"
      ]
     },
     "metadata": {
      "needs_background": "light"
     },
     "output_type": "display_data"
    }
   ],
   "source": [
    "fig = plt.figure(figsize=(10, 8))\n",
    "plt.title(\"Acousticness bar plot for liked/disliked songs\")\n",
    "liked_acousticness.hist(alpha = 0.7, bins = 30, label = 'Liked')\n",
    "disliked_acousticness.hist(alpha = 0.7, bins = 30, label = 'Disliked')\n",
    "plt.grid(b=None)\n",
    "plt.legend(loc=\"upper right\")"
   ]
  },
  {
   "cell_type": "code",
   "execution_count": 17,
   "metadata": {},
   "outputs": [
    {
     "data": {
      "text/plain": [
       "<matplotlib.legend.Legend at 0x1cc27cc8>"
      ]
     },
     "execution_count": 17,
     "metadata": {},
     "output_type": "execute_result"
    },
    {
     "data": {
      "image/png": "[encoded data removed]",
      "text/plain": [
       "<Figure size 720x576 with 1 Axes>"
      ]
     },
     "metadata": {
      "needs_background": "light"
     },
     "output_type": "display_data"
    }
   ],
   "source": [
    "fig = plt.figure(figsize=(10, 8))\n",
    "plt.title(\"Danceability bar plot for liked/disliked songs\")\n",
    "liked_danceability.hist(alpha = 0.7, bins = 30, label = 'Liked')\n",
    "disliked_danceability.hist(alpha = 0.7, bins = 30, label = 'Disliked')\n",
    "plt.grid(b=None)\n",
    "plt.legend(loc=\"upper right\")"
   ]
  },
  {
   "cell_type": "code",
   "execution_count": 18,
   "metadata": {},
   "outputs": [
    {
     "data": {
      "text/plain": [
       "<matplotlib.legend.Legend at 0x1cfaec88>"
      ]
     },
     "execution_count": 18,
     "metadata": {},
     "output_type": "execute_result"
    },
    {
     "data": {
      "image/png": "[encoded data removed]",
      "text/plain": [
       "<Figure size 720x576 with 1 Axes>"
      ]
     },
     "metadata": {
      "needs_background": "light"
     },
     "output_type": "display_data"
    }
   ],
   "source": [
    "fig = plt.figure(figsize=(10, 8))\n",
    "plt.title(\"Duration (in ms) bar plot for liked/disliked songs\")\n",
    "liked_duration_ms.hist(alpha = 0.7, bins = 30, label = 'Liked') \n",
    "disliked_duration_ms.hist(alpha = 0.7, bins = 30, label = 'Disliked')\n",
    "plt.grid(b=None)\n",
    "plt.legend(loc=\"upper right\")"
   ]
  },
  {
   "cell_type": "code",
   "execution_count": 19,
   "metadata": {},
   "outputs": [
    {
     "data": {
      "text/plain": [
       "<matplotlib.legend.Legend at 0x1d1937c8>"
      ]
     },
     "execution_count": 19,
     "metadata": {},
     "output_type": "execute_result"
    },
    {
     "data": {
      "image/png": "[encoded data removed]",
      "text/plain": [
       "<Figure size 720x576 with 1 Axes>"
      ]
     },
     "metadata": {
      "needs_background": "light"
     },
     "output_type": "display_data"
    }
   ],
   "source": [
    "fig = plt.figure(figsize=(10, 8))\n",
    "plt.title(\"Energy bar plot for liked/disliked songs\")\n",
    "liked_energy.hist(alpha = 0.7, bins = 30, label = 'Liked') \n",
    "disliked_energy.hist(alpha = 0.7, bins = 30, label = 'Disliked')\n",
    "plt.grid(b=None)\n",
    "plt.legend(loc=\"upper right\")"
   ]
  },
  {
   "cell_type": "code",
   "execution_count": 20,
   "metadata": {},
   "outputs": [
    {
     "data": {
      "text/plain": [
       "<matplotlib.legend.Legend at 0x1d4e9588>"
      ]
     },
     "execution_count": 20,
     "metadata": {},
     "output_type": "execute_result"
    },
    {
     "data": {
      "image/png": "[encoded data removed]",
      "text/plain": [
       "<Figure size 720x576 with 1 Axes>"
      ]
     },
     "metadata": {
      "needs_background": "light"
     },
     "output_type": "display_data"
    }
   ],
   "source": [
    "fig = plt.figure(figsize=(10, 8))\n",
    "plt.title(\"Instrumentalness bar plot for liked/disliked songs\")\n",
    "liked_instrumentalness.hist(alpha = 0.7, bins = 30, label = 'Liked') \n",
    "disliked_instrumentalness.hist(alpha = 0.7, bins = 30, label = 'Disliked')\n",
    "plt.grid(b=None)\n",
    "plt.legend(loc=\"upper right\")"
   ]
  },
  {
   "cell_type": "code",
   "execution_count": 21,
   "metadata": {},
   "outputs": [
    {
     "data": {
      "text/plain": [
       "<matplotlib.legend.Legend at 0x1d889548>"
      ]
     },
     "execution_count": 21,
     "metadata": {},
     "output_type": "execute_result"
    },
    {
     "data": {
      "image/png": "[encoded data removed]",
      "text/plain": [
       "<Figure size 720x576 with 1 Axes>"
      ]
     },
     "metadata": {
      "needs_background": "light"
     },
     "output_type": "display_data"
    }
   ],
   "source": [
    "fig = plt.figure(figsize=(10, 8))\n",
    "plt.title(\"Key bar plot for liked/disliked songs\")\n",
    "liked_key.hist(alpha = 0.7, bins = 30, label = 'Liked') \n",
    "disliked_key.hist(alpha = 0.7, bins = 30, label = 'Disliked')\n",
    "plt.grid(b=None)\n",
    "plt.legend(loc=\"upper right\")"
   ]
  },
  {
   "cell_type": "code",
   "execution_count": 22,
   "metadata": {},
   "outputs": [
    {
     "data": {
      "text/plain": [
       "<matplotlib.legend.Legend at 0x1da46b08>"
      ]
     },
     "execution_count": 22,
     "metadata": {},
     "output_type": "execute_result"
    },
    {
     "data": {
      "image/png": "[encoded data removed]",
      "text/plain": [
       "<Figure size 720x576 with 1 Axes>"
      ]
     },
     "metadata": {
      "needs_background": "light"
     },
     "output_type": "display_data"
    }
   ],
   "source": [
    "fig = plt.figure(figsize=(10, 8))\n",
    "plt.title(\"Liveness bar plot for liked/disliked songs\")\n",
    "liked_liveness.hist(alpha = 0.7, bins = 30, label = 'Liked') \n",
    "disliked_liveness.hist(alpha = 0.7, bins = 30, label = 'Disliked')\n",
    "plt.grid(b=None)\n",
    "plt.legend(loc=\"upper right\")"
   ]
  },
  {
   "cell_type": "code",
   "execution_count": 23,
   "metadata": {},
   "outputs": [
    {
     "data": {
      "text/plain": [
       "<matplotlib.legend.Legend at 0x1dc9f5c8>"
      ]
     },
     "execution_count": 23,
     "metadata": {},
     "output_type": "execute_result"
    },
    {
     "data": {
      "image/png": "[encoded data removed]",
      "text/plain": [
       "<Figure size 720x576 with 1 Axes>"
      ]
     },
     "metadata": {
      "needs_background": "light"
     },
     "output_type": "display_data"
    }
   ],
   "source": [
    "fig = plt.figure(figsize=(10, 8))\n",
    "plt.title(\"Loudness bar plot for liked/disliked songs\")\n",
    "liked_loudness.hist(alpha = 0.7, bins = 30, label = 'Liked') \n",
    "disliked_loudness.hist(alpha = 0.7, bins = 30, label = 'Disliked')\n",
    "plt.grid(b=None)\n",
    "plt.legend(loc=\"upper right\")"
   ]
  },
  {
   "cell_type": "code",
   "execution_count": 24,
   "metadata": {},
   "outputs": [
    {
     "data": {
      "text/plain": [
       "<matplotlib.legend.Legend at 0x1c743dc8>"
      ]
     },
     "execution_count": 24,
     "metadata": {},
     "output_type": "execute_result"
    },
    {
     "data": {
      "image/png": "[encoded data removed]",
      "text/plain": [
       "<Figure size 720x576 with 1 Axes>"
      ]
     },
     "metadata": {
      "needs_background": "light"
     },
     "output_type": "display_data"
    }
   ],
   "source": [
    "fig = plt.figure(figsize=(10, 8))\n",
    "plt.title(\"Mode bar plot for liked/disliked songs\")\n",
    "liked_mode.hist(alpha = 0.7, bins = 30, label = 'Liked') \n",
    "disliked_mode.hist(alpha = 0.7, bins = 30, label = 'Disliked')\n",
    "plt.grid(b=None)\n",
    "plt.legend(loc=\"upper right\")"
   ]
  },
  {
   "cell_type": "code",
   "execution_count": 25,
   "metadata": {},
   "outputs": [
    {
     "data": {
      "text/plain": [
       "<matplotlib.legend.Legend at 0x1e02b388>"
      ]
     },
     "execution_count": 25,
     "metadata": {},
     "output_type": "execute_result"
    },
    {
     "data": {
      "image/png": "[encoded data removed]",
      "text/plain": [
       "<Figure size 720x576 with 1 Axes>"
      ]
     },
     "metadata": {
      "needs_background": "light"
     },
     "output_type": "display_data"
    }
   ],
   "source": [
    "fig = plt.figure(figsize=(10, 8))\n",
    "plt.title(\"Speechiness bar plot for liked/disliked songs\")\n",
    "liked_speechiness.hist(alpha = 0.7, bins = 30, label = 'Liked') \n",
    "disliked_speechiness.hist(alpha = 0.7, bins = 30, label = 'Disliked')\n",
    "plt.grid(b=None)\n",
    "plt.legend(loc=\"upper right\")"
   ]
  },
  {
   "cell_type": "code",
   "execution_count": 26,
   "metadata": {},
   "outputs": [
    {
     "data": {
      "text/plain": [
       "<matplotlib.legend.Legend at 0x20e7f808>"
      ]
     },
     "execution_count": 26,
     "metadata": {},
     "output_type": "execute_result"
    },
    {
     "data": {
      "image/png": "[encoded data removed]",
      "text/plain": [
       "<Figure size 720x576 with 1 Axes>"
      ]
     },
     "metadata": {
      "needs_background": "light"
     },
     "output_type": "display_data"
    }
   ],
   "source": [
    "fig = plt.figure(figsize=(10, 8))\n",
    "plt.title(\"Tempo bar plot for liked/disliked songs\")\n",
    "liked_tempo.hist(alpha = 0.7, bins = 30, label = 'Liked') \n",
    "disliked_tempo.hist(alpha = 0.7, bins = 30, label = 'Disliked')\n",
    "plt.grid(b=None)\n",
    "plt.legend(loc=\"upper right\")\n",
    "\n",
    "#alpha to make the bar a bit translucent\n",
    "#bins to see if there are not more than 30 different values, which might crowd the plot. (Double check)"
   ]
  },
  {
   "cell_type": "code",
   "execution_count": 27,
   "metadata": {},
   "outputs": [
    {
     "data": {
      "text/plain": [
       "<matplotlib.legend.Legend at 0x21208c88>"
      ]
     },
     "execution_count": 27,
     "metadata": {},
     "output_type": "execute_result"
    },
    {
     "data": {
      "image/png": "[encoded data removed]",
      "text/plain": [
       "<Figure size 720x576 with 1 Axes>"
      ]
     },
     "metadata": {
      "needs_background": "light"
     },
     "output_type": "display_data"
    }
   ],
   "source": [
    "fig = plt.figure(figsize=(10, 8))\n",
    "plt.title(\"Time Signature bar plot for liked/disliked songs\")\n",
    "liked_time_signature.hist(alpha = 0.7, bins = 30, label = 'Liked') \n",
    "disliked_time_signature.hist(alpha = 0.7, bins = 30, label = 'Disliked')\n",
    "plt.grid(b=None)\n",
    "plt.legend(loc=\"upper right\")"
   ]
  },
  {
   "cell_type": "code",
   "execution_count": 28,
   "metadata": {},
   "outputs": [
    {
     "data": {
      "text/plain": [
       "<matplotlib.legend.Legend at 0x21452848>"
      ]
     },
     "execution_count": 28,
     "metadata": {},
     "output_type": "execute_result"
    },
    {
     "data": {
      "image/png": "[encoded data removed]",
      "text/plain": [
       "<Figure size 720x576 with 1 Axes>"
      ]
     },
     "metadata": {
      "needs_background": "light"
     },
     "output_type": "display_data"
    }
   ],
   "source": [
    "fig = plt.figure(figsize=(10, 8))\n",
    "plt.title(\"Valence bar plot for liked/disliked songs\")\n",
    "liked_valence.hist(alpha = 0.7, bins = 30, label = 'Liked') \n",
    "disliked_valence.hist(alpha = 0.7, bins = 30, label = 'Disliked')\n",
    "plt.grid(b=None)\n",
    "plt.legend(loc=\"upper right\")"
   ]
  },
  {
   "cell_type": "code",
   "execution_count": null,
   "metadata": {},
   "outputs": [],
   "source": []
  }
 ],
 "metadata": {
  "kernelspec": {
   "display_name": "Python 3",
   "language": "python",
   "name": "python3"
  },
  "language_info": {
   "codemirror_mode": {
    "name": "ipython",
    "version": 3
   },
   "file_extension": ".py",
   "mimetype": "text/x-python",
   "name": "python",
   "nbconvert_exporter": "python",
   "pygments_lexer": "ipython3",
   "version": "3.8.3"
  }
 },
 "nbformat": 4,
 "nbformat_minor": 2
}
